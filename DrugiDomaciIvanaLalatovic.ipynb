{
  "nbformat": 4,
  "nbformat_minor": 0,
  "metadata": {
    "colab": {
      "provenance": [],
      "authorship_tag": "ABX9TyNpmcB58/yw/biq1ukPzVsI",
      "include_colab_link": true
    },
    "kernelspec": {
      "name": "python3",
      "display_name": "Python 3"
    },
    "language_info": {
      "name": "python"
    }
  },
  "cells": [
    {
      "cell_type": "markdown",
      "metadata": {
        "id": "view-in-github",
        "colab_type": "text"
      },
      "source": [
        "<a href=\"https://colab.research.google.com/github/IvanaLalatovic/DomaciNaukaOPodacima/blob/master/DrugiDomaciIvanaLalatovic.ipynb\" target=\"_parent\"><img src=\"https://colab.research.google.com/assets/colab-badge.svg\" alt=\"Open In Colab\"/></a>"
      ]
    },
    {
      "cell_type": "markdown",
      "source": [
        "Kodom u nastavku dobijamo uvid u strukturu i statistiku podataka koji se nalaze u datoteci \"Salary Data.csv\". Sav kod u nastavku je neophodan kako bi u trećem domaćem zadatku predstavili sistem za predikciju plata u određenom poslu na osnovu ovog data seta. Učitavamo podatke, prikazujemo prvih par redova i generišemo opštu statistiku. Prvo importujemo biblioteke NumPy i Pandas za matematičke operacije i rad sa nizovima, i za manipulaciju i analizu podataka. Učitavamo csv fajl i sačuvamo ga u DataFrame pod nazivom 'data'. Naredba data.describe() generiše opštu statistiku za numeričke kolone 'data' kao što su broj, srednja vrijednost, standardna devijacija, minimum, 25. percentil, medijana, 75. percentil i maksimum. "
      ],
      "metadata": {
        "id": "LbNpDr57R4rN"
      }
    },
    {
      "cell_type": "code",
      "execution_count": 1,
      "metadata": {
        "id": "QMBcojPrjF5l"
      },
      "outputs": [],
      "source": [
        "import numpy as np \n",
        "import pandas as pd "
      ]
    },
    {
      "cell_type": "markdown",
      "source": [
        "Tabelarni prikaz izvornog skupa podataka\n"
      ],
      "metadata": {
        "id": "y1e5Z4ItLUbR"
      }
    },
    {
      "cell_type": "code",
      "source": [
        "data = pd.read_csv('Salary Data.csv')\n",
        "print(data)\n",
        "data.head()"
      ],
      "metadata": {
        "colab": {
          "base_uri": "https://localhost:8080/",
          "height": 674
        },
        "id": "BL5zUeqF7bto",
        "outputId": "b3bec068-0f59-4294-d271-eee373d39c86"
      },
      "execution_count": 2,
      "outputs": [
        {
          "output_type": "stream",
          "name": "stdout",
          "text": [
            "     Identifier  Age  Gender Education Level                      Job Title  \\\n",
            "0             1   32    Male      Bachelor's              Software Engineer   \n",
            "1             2   28  Female        Master's                   Data Analyst   \n",
            "2             3   45    Male             PhD                 Senior Manager   \n",
            "3             4   36  Female      Bachelor's                Sales Associate   \n",
            "4             5   52    Male        Master's                       Director   \n",
            "..          ...  ...     ...             ...                            ...   \n",
            "368         369   35  Female      Bachelor's       Senior Marketing Analyst   \n",
            "369         370   43    Male        Master's         Director of Operations   \n",
            "370         371   29  Female      Bachelor's         Junior Project Manager   \n",
            "371         372   34    Male      Bachelor's  Senior Operations Coordinator   \n",
            "372         373   44  Female             PhD        Senior Business Analyst   \n",
            "\n",
            "     Years of Experience  Salary  \n",
            "0                    5.0   90000  \n",
            "1                    3.0   65000  \n",
            "2                   15.0  150000  \n",
            "3                    7.0   60000  \n",
            "4                   20.0  200000  \n",
            "..                   ...     ...  \n",
            "368                  8.0   85000  \n",
            "369                 19.0  170000  \n",
            "370                  2.0   40000  \n",
            "371                  7.0   90000  \n",
            "372                 15.0  150000  \n",
            "\n",
            "[373 rows x 7 columns]\n"
          ]
        },
        {
          "output_type": "execute_result",
          "data": {
            "text/plain": [
              "   Identifier  Age  Gender Education Level          Job Title  \\\n",
              "0           1   32    Male      Bachelor's  Software Engineer   \n",
              "1           2   28  Female        Master's       Data Analyst   \n",
              "2           3   45    Male             PhD     Senior Manager   \n",
              "3           4   36  Female      Bachelor's    Sales Associate   \n",
              "4           5   52    Male        Master's           Director   \n",
              "\n",
              "   Years of Experience  Salary  \n",
              "0                  5.0   90000  \n",
              "1                  3.0   65000  \n",
              "2                 15.0  150000  \n",
              "3                  7.0   60000  \n",
              "4                 20.0  200000  "
            ],
            "text/html": [
              "\n",
              "  <div id=\"df-5b06f307-6631-4169-9fc4-5d32ea97fa87\">\n",
              "    <div class=\"colab-df-container\">\n",
              "      <div>\n",
              "<style scoped>\n",
              "    .dataframe tbody tr th:only-of-type {\n",
              "        vertical-align: middle;\n",
              "    }\n",
              "\n",
              "    .dataframe tbody tr th {\n",
              "        vertical-align: top;\n",
              "    }\n",
              "\n",
              "    .dataframe thead th {\n",
              "        text-align: right;\n",
              "    }\n",
              "</style>\n",
              "<table border=\"1\" class=\"dataframe\">\n",
              "  <thead>\n",
              "    <tr style=\"text-align: right;\">\n",
              "      <th></th>\n",
              "      <th>Identifier</th>\n",
              "      <th>Age</th>\n",
              "      <th>Gender</th>\n",
              "      <th>Education Level</th>\n",
              "      <th>Job Title</th>\n",
              "      <th>Years of Experience</th>\n",
              "      <th>Salary</th>\n",
              "    </tr>\n",
              "  </thead>\n",
              "  <tbody>\n",
              "    <tr>\n",
              "      <th>0</th>\n",
              "      <td>1</td>\n",
              "      <td>32</td>\n",
              "      <td>Male</td>\n",
              "      <td>Bachelor's</td>\n",
              "      <td>Software Engineer</td>\n",
              "      <td>5.0</td>\n",
              "      <td>90000</td>\n",
              "    </tr>\n",
              "    <tr>\n",
              "      <th>1</th>\n",
              "      <td>2</td>\n",
              "      <td>28</td>\n",
              "      <td>Female</td>\n",
              "      <td>Master's</td>\n",
              "      <td>Data Analyst</td>\n",
              "      <td>3.0</td>\n",
              "      <td>65000</td>\n",
              "    </tr>\n",
              "    <tr>\n",
              "      <th>2</th>\n",
              "      <td>3</td>\n",
              "      <td>45</td>\n",
              "      <td>Male</td>\n",
              "      <td>PhD</td>\n",
              "      <td>Senior Manager</td>\n",
              "      <td>15.0</td>\n",
              "      <td>150000</td>\n",
              "    </tr>\n",
              "    <tr>\n",
              "      <th>3</th>\n",
              "      <td>4</td>\n",
              "      <td>36</td>\n",
              "      <td>Female</td>\n",
              "      <td>Bachelor's</td>\n",
              "      <td>Sales Associate</td>\n",
              "      <td>7.0</td>\n",
              "      <td>60000</td>\n",
              "    </tr>\n",
              "    <tr>\n",
              "      <th>4</th>\n",
              "      <td>5</td>\n",
              "      <td>52</td>\n",
              "      <td>Male</td>\n",
              "      <td>Master's</td>\n",
              "      <td>Director</td>\n",
              "      <td>20.0</td>\n",
              "      <td>200000</td>\n",
              "    </tr>\n",
              "  </tbody>\n",
              "</table>\n",
              "</div>\n",
              "      <button class=\"colab-df-convert\" onclick=\"convertToInteractive('df-5b06f307-6631-4169-9fc4-5d32ea97fa87')\"\n",
              "              title=\"Convert this dataframe to an interactive table.\"\n",
              "              style=\"display:none;\">\n",
              "        \n",
              "  <svg xmlns=\"http://www.w3.org/2000/svg\" height=\"24px\"viewBox=\"0 0 24 24\"\n",
              "       width=\"24px\">\n",
              "    <path d=\"M0 0h24v24H0V0z\" fill=\"none\"/>\n",
              "    <path d=\"M18.56 5.44l.94 2.06.94-2.06 2.06-.94-2.06-.94-.94-2.06-.94 2.06-2.06.94zm-11 1L8.5 8.5l.94-2.06 2.06-.94-2.06-.94L8.5 2.5l-.94 2.06-2.06.94zm10 10l.94 2.06.94-2.06 2.06-.94-2.06-.94-.94-2.06-.94 2.06-2.06.94z\"/><path d=\"M17.41 7.96l-1.37-1.37c-.4-.4-.92-.59-1.43-.59-.52 0-1.04.2-1.43.59L10.3 9.45l-7.72 7.72c-.78.78-.78 2.05 0 2.83L4 21.41c.39.39.9.59 1.41.59.51 0 1.02-.2 1.41-.59l7.78-7.78 2.81-2.81c.8-.78.8-2.07 0-2.86zM5.41 20L4 18.59l7.72-7.72 1.47 1.35L5.41 20z\"/>\n",
              "  </svg>\n",
              "      </button>\n",
              "      \n",
              "  <style>\n",
              "    .colab-df-container {\n",
              "      display:flex;\n",
              "      flex-wrap:wrap;\n",
              "      gap: 12px;\n",
              "    }\n",
              "\n",
              "    .colab-df-convert {\n",
              "      background-color: #E8F0FE;\n",
              "      border: none;\n",
              "      border-radius: 50%;\n",
              "      cursor: pointer;\n",
              "      display: none;\n",
              "      fill: #1967D2;\n",
              "      height: 32px;\n",
              "      padding: 0 0 0 0;\n",
              "      width: 32px;\n",
              "    }\n",
              "\n",
              "    .colab-df-convert:hover {\n",
              "      background-color: #E2EBFA;\n",
              "      box-shadow: 0px 1px 2px rgba(60, 64, 67, 0.3), 0px 1px 3px 1px rgba(60, 64, 67, 0.15);\n",
              "      fill: #174EA6;\n",
              "    }\n",
              "\n",
              "    [theme=dark] .colab-df-convert {\n",
              "      background-color: #3B4455;\n",
              "      fill: #D2E3FC;\n",
              "    }\n",
              "\n",
              "    [theme=dark] .colab-df-convert:hover {\n",
              "      background-color: #434B5C;\n",
              "      box-shadow: 0px 1px 3px 1px rgba(0, 0, 0, 0.15);\n",
              "      filter: drop-shadow(0px 1px 2px rgba(0, 0, 0, 0.3));\n",
              "      fill: #FFFFFF;\n",
              "    }\n",
              "  </style>\n",
              "\n",
              "      <script>\n",
              "        const buttonEl =\n",
              "          document.querySelector('#df-5b06f307-6631-4169-9fc4-5d32ea97fa87 button.colab-df-convert');\n",
              "        buttonEl.style.display =\n",
              "          google.colab.kernel.accessAllowed ? 'block' : 'none';\n",
              "\n",
              "        async function convertToInteractive(key) {\n",
              "          const element = document.querySelector('#df-5b06f307-6631-4169-9fc4-5d32ea97fa87');\n",
              "          const dataTable =\n",
              "            await google.colab.kernel.invokeFunction('convertToInteractive',\n",
              "                                                     [key], {});\n",
              "          if (!dataTable) return;\n",
              "\n",
              "          const docLinkHtml = 'Like what you see? Visit the ' +\n",
              "            '<a target=\"_blank\" href=https://colab.research.google.com/notebooks/data_table.ipynb>data table notebook</a>'\n",
              "            + ' to learn more about interactive tables.';\n",
              "          element.innerHTML = '';\n",
              "          dataTable['output_type'] = 'display_data';\n",
              "          await google.colab.output.renderOutput(dataTable, element);\n",
              "          const docLink = document.createElement('div');\n",
              "          docLink.innerHTML = docLinkHtml;\n",
              "          element.appendChild(docLink);\n",
              "        }\n",
              "      </script>\n",
              "    </div>\n",
              "  </div>\n",
              "  "
            ]
          },
          "metadata": {},
          "execution_count": 2
        }
      ]
    },
    {
      "cell_type": "code",
      "source": [
        "data.describe()"
      ],
      "metadata": {
        "colab": {
          "base_uri": "https://localhost:8080/",
          "height": 300
        },
        "id": "5nA82cwP7reJ",
        "outputId": "d84e46c4-1842-40cc-cc3e-013e587e7032"
      },
      "execution_count": 3,
      "outputs": [
        {
          "output_type": "execute_result",
          "data": {
            "text/plain": [
              "       Identifier         Age  Years of Experience         Salary\n",
              "count  373.000000  373.000000           373.000000     373.000000\n",
              "mean   187.000000   37.431635            10.030831  100577.345845\n",
              "std    107.820066    7.069073             6.557007   48240.013482\n",
              "min      1.000000   23.000000             0.000000     350.000000\n",
              "25%     94.000000   31.000000             4.000000   55000.000000\n",
              "50%    187.000000   36.000000             9.000000   95000.000000\n",
              "75%    280.000000   44.000000            15.000000  140000.000000\n",
              "max    373.000000   53.000000            25.000000  250000.000000"
            ],
            "text/html": [
              "\n",
              "  <div id=\"df-24e2db86-f45b-48d4-ae10-556e9f2f4026\">\n",
              "    <div class=\"colab-df-container\">\n",
              "      <div>\n",
              "<style scoped>\n",
              "    .dataframe tbody tr th:only-of-type {\n",
              "        vertical-align: middle;\n",
              "    }\n",
              "\n",
              "    .dataframe tbody tr th {\n",
              "        vertical-align: top;\n",
              "    }\n",
              "\n",
              "    .dataframe thead th {\n",
              "        text-align: right;\n",
              "    }\n",
              "</style>\n",
              "<table border=\"1\" class=\"dataframe\">\n",
              "  <thead>\n",
              "    <tr style=\"text-align: right;\">\n",
              "      <th></th>\n",
              "      <th>Identifier</th>\n",
              "      <th>Age</th>\n",
              "      <th>Years of Experience</th>\n",
              "      <th>Salary</th>\n",
              "    </tr>\n",
              "  </thead>\n",
              "  <tbody>\n",
              "    <tr>\n",
              "      <th>count</th>\n",
              "      <td>373.000000</td>\n",
              "      <td>373.000000</td>\n",
              "      <td>373.000000</td>\n",
              "      <td>373.000000</td>\n",
              "    </tr>\n",
              "    <tr>\n",
              "      <th>mean</th>\n",
              "      <td>187.000000</td>\n",
              "      <td>37.431635</td>\n",
              "      <td>10.030831</td>\n",
              "      <td>100577.345845</td>\n",
              "    </tr>\n",
              "    <tr>\n",
              "      <th>std</th>\n",
              "      <td>107.820066</td>\n",
              "      <td>7.069073</td>\n",
              "      <td>6.557007</td>\n",
              "      <td>48240.013482</td>\n",
              "    </tr>\n",
              "    <tr>\n",
              "      <th>min</th>\n",
              "      <td>1.000000</td>\n",
              "      <td>23.000000</td>\n",
              "      <td>0.000000</td>\n",
              "      <td>350.000000</td>\n",
              "    </tr>\n",
              "    <tr>\n",
              "      <th>25%</th>\n",
              "      <td>94.000000</td>\n",
              "      <td>31.000000</td>\n",
              "      <td>4.000000</td>\n",
              "      <td>55000.000000</td>\n",
              "    </tr>\n",
              "    <tr>\n",
              "      <th>50%</th>\n",
              "      <td>187.000000</td>\n",
              "      <td>36.000000</td>\n",
              "      <td>9.000000</td>\n",
              "      <td>95000.000000</td>\n",
              "    </tr>\n",
              "    <tr>\n",
              "      <th>75%</th>\n",
              "      <td>280.000000</td>\n",
              "      <td>44.000000</td>\n",
              "      <td>15.000000</td>\n",
              "      <td>140000.000000</td>\n",
              "    </tr>\n",
              "    <tr>\n",
              "      <th>max</th>\n",
              "      <td>373.000000</td>\n",
              "      <td>53.000000</td>\n",
              "      <td>25.000000</td>\n",
              "      <td>250000.000000</td>\n",
              "    </tr>\n",
              "  </tbody>\n",
              "</table>\n",
              "</div>\n",
              "      <button class=\"colab-df-convert\" onclick=\"convertToInteractive('df-24e2db86-f45b-48d4-ae10-556e9f2f4026')\"\n",
              "              title=\"Convert this dataframe to an interactive table.\"\n",
              "              style=\"display:none;\">\n",
              "        \n",
              "  <svg xmlns=\"http://www.w3.org/2000/svg\" height=\"24px\"viewBox=\"0 0 24 24\"\n",
              "       width=\"24px\">\n",
              "    <path d=\"M0 0h24v24H0V0z\" fill=\"none\"/>\n",
              "    <path d=\"M18.56 5.44l.94 2.06.94-2.06 2.06-.94-2.06-.94-.94-2.06-.94 2.06-2.06.94zm-11 1L8.5 8.5l.94-2.06 2.06-.94-2.06-.94L8.5 2.5l-.94 2.06-2.06.94zm10 10l.94 2.06.94-2.06 2.06-.94-2.06-.94-.94-2.06-.94 2.06-2.06.94z\"/><path d=\"M17.41 7.96l-1.37-1.37c-.4-.4-.92-.59-1.43-.59-.52 0-1.04.2-1.43.59L10.3 9.45l-7.72 7.72c-.78.78-.78 2.05 0 2.83L4 21.41c.39.39.9.59 1.41.59.51 0 1.02-.2 1.41-.59l7.78-7.78 2.81-2.81c.8-.78.8-2.07 0-2.86zM5.41 20L4 18.59l7.72-7.72 1.47 1.35L5.41 20z\"/>\n",
              "  </svg>\n",
              "      </button>\n",
              "      \n",
              "  <style>\n",
              "    .colab-df-container {\n",
              "      display:flex;\n",
              "      flex-wrap:wrap;\n",
              "      gap: 12px;\n",
              "    }\n",
              "\n",
              "    .colab-df-convert {\n",
              "      background-color: #E8F0FE;\n",
              "      border: none;\n",
              "      border-radius: 50%;\n",
              "      cursor: pointer;\n",
              "      display: none;\n",
              "      fill: #1967D2;\n",
              "      height: 32px;\n",
              "      padding: 0 0 0 0;\n",
              "      width: 32px;\n",
              "    }\n",
              "\n",
              "    .colab-df-convert:hover {\n",
              "      background-color: #E2EBFA;\n",
              "      box-shadow: 0px 1px 2px rgba(60, 64, 67, 0.3), 0px 1px 3px 1px rgba(60, 64, 67, 0.15);\n",
              "      fill: #174EA6;\n",
              "    }\n",
              "\n",
              "    [theme=dark] .colab-df-convert {\n",
              "      background-color: #3B4455;\n",
              "      fill: #D2E3FC;\n",
              "    }\n",
              "\n",
              "    [theme=dark] .colab-df-convert:hover {\n",
              "      background-color: #434B5C;\n",
              "      box-shadow: 0px 1px 3px 1px rgba(0, 0, 0, 0.15);\n",
              "      filter: drop-shadow(0px 1px 2px rgba(0, 0, 0, 0.3));\n",
              "      fill: #FFFFFF;\n",
              "    }\n",
              "  </style>\n",
              "\n",
              "      <script>\n",
              "        const buttonEl =\n",
              "          document.querySelector('#df-24e2db86-f45b-48d4-ae10-556e9f2f4026 button.colab-df-convert');\n",
              "        buttonEl.style.display =\n",
              "          google.colab.kernel.accessAllowed ? 'block' : 'none';\n",
              "\n",
              "        async function convertToInteractive(key) {\n",
              "          const element = document.querySelector('#df-24e2db86-f45b-48d4-ae10-556e9f2f4026');\n",
              "          const dataTable =\n",
              "            await google.colab.kernel.invokeFunction('convertToInteractive',\n",
              "                                                     [key], {});\n",
              "          if (!dataTable) return;\n",
              "\n",
              "          const docLinkHtml = 'Like what you see? Visit the ' +\n",
              "            '<a target=\"_blank\" href=https://colab.research.google.com/notebooks/data_table.ipynb>data table notebook</a>'\n",
              "            + ' to learn more about interactive tables.';\n",
              "          element.innerHTML = '';\n",
              "          dataTable['output_type'] = 'display_data';\n",
              "          await google.colab.output.renderOutput(dataTable, element);\n",
              "          const docLink = document.createElement('div');\n",
              "          docLink.innerHTML = docLinkHtml;\n",
              "          element.appendChild(docLink);\n",
              "        }\n",
              "      </script>\n",
              "    </div>\n",
              "  </div>\n",
              "  "
            ]
          },
          "metadata": {},
          "execution_count": 3
        }
      ]
    },
    {
      "cell_type": "markdown",
      "source": [
        "Sljedećim kodom dodajemo novu kolonu 'Starting age' u kojoj ćemo izvesti podatke potencijalnog broja godina koliko su navedeni radnici imali kada su počeli da se bave svojim poslom. Podatke dobjemo tako što od godina isustva oduzememo trenutni broj godina. Sljedećim redom koda dobijamo prikaz nove kolone i korišćene dvije kolone."
      ],
      "metadata": {
        "id": "RL2GtL3UR3V0"
      }
    },
    {
      "cell_type": "markdown",
      "source": [
        "Tabelarni prikaz izvedenih numeričkih atributa"
      ],
      "metadata": {
        "id": "zkbK12m0CMQR"
      }
    },
    {
      "cell_type": "code",
      "source": [
        "data['Starting age'] = data['Age'] - data['Years of Experience']\n",
        "print(data[['Age', 'Years of Experience', 'Starting age']])"
      ],
      "metadata": {
        "colab": {
          "base_uri": "https://localhost:8080/"
        },
        "id": "YdM6e_sj72xa",
        "outputId": "5d6a5a13-8e21-440f-e025-ea286ce1abd6"
      },
      "execution_count": 4,
      "outputs": [
        {
          "output_type": "stream",
          "name": "stdout",
          "text": [
            "     Age  Years of Experience  Starting age\n",
            "0     32                  5.0          27.0\n",
            "1     28                  3.0          25.0\n",
            "2     45                 15.0          30.0\n",
            "3     36                  7.0          29.0\n",
            "4     52                 20.0          32.0\n",
            "..   ...                  ...           ...\n",
            "368   35                  8.0          27.0\n",
            "369   43                 19.0          24.0\n",
            "370   29                  2.0          27.0\n",
            "371   34                  7.0          27.0\n",
            "372   44                 15.0          29.0\n",
            "\n",
            "[373 rows x 3 columns]\n"
          ]
        }
      ]
    },
    {
      "cell_type": "markdown",
      "source": [
        "Transformisanje kategorija iz tekstualnog u numericki oblik za sve atribute\n"
      ],
      "metadata": {
        "id": "qVEIxQg9G80t"
      }
    },
    {
      "cell_type": "markdown",
      "source": [
        "Ovaj kod se odnosi na preprocesiranje kategoričkih atributa u podacima korišćenjem One-Hot Encodinga i Label Encodinga. Importujemo simpleImputer za rješavanje nedostajućih vrijednosti, OneHotENcoder za enkodiranje kategoričkih atributa, ColumnTransformer, LinearRegression i LabelEncoder koji imaju istu funkciju kao i njihov naziv. PRva linija koda deklariše koji su kategorički atributi. one_hot_encoded_data = pd.get_dummies(data, columns=categorical_attributes): Ova linija koda koristi funkciju get_dummies iz pandas biblioteke kako bi se izvršio One-Hot Encoding za sve kategoričke atribute. Tako dobijamo DataFrame one_hot_encoded_data sa novim kolonama koje predstavljaju kodirane vrijednosti kategoričkih atributa. Sljedećoom linijom koda stvaramo instancu LabelEncoder objekta a petljom primjenjujemo Label Encoding za svaki kategorički atribut tako što mijenjamo originalne vrijednosti sa kodiranim numeričkim i ispisujemo rezultat."
      ],
      "metadata": {
        "id": "Acu-fQAVUyaf"
      }
    },
    {
      "cell_type": "code",
      "source": [
        "from sklearn.impute import SimpleImputer\n",
        "from sklearn.preprocessing import OneHotEncoder\n",
        "from sklearn.compose import ColumnTransformer\n",
        "from sklearn.linear_model import LinearRegression\n",
        "from sklearn.preprocessing import LabelEncoder\n"
      ],
      "metadata": {
        "id": "TsoNjNewwPHV"
      },
      "execution_count": 5,
      "outputs": []
    },
    {
      "cell_type": "code",
      "source": [
        "categorical_attributes = ['Gender', 'Job Title', 'Education Level']\n",
        "one_hot_encoded_data = pd.get_dummies(data, columns=categorical_attributes)\n",
        "label_encoder = LabelEncoder()\n",
        "for attribute in categorical_attributes:\n",
        "    data[attribute] = label_encoder.fit_transform(data[attribute])\n",
        "print(\"One-Hot Encoded Data:\")\n",
        "print(one_hot_encoded_data.head())\n",
        "print()\n",
        "print(\"Label Encoded Data:\")\n",
        "print(data.head())"
      ],
      "metadata": {
        "colab": {
          "base_uri": "https://localhost:8080/"
        },
        "id": "D4TXJDx4HJRS",
        "outputId": "276bd1a8-b186-499c-86f0-dc5e9daed428"
      },
      "execution_count": 6,
      "outputs": [
        {
          "output_type": "stream",
          "name": "stdout",
          "text": [
            "One-Hot Encoded Data:\n",
            "   Identifier  Age  Years of Experience  Salary  Starting age  Gender_Female  \\\n",
            "0           1   32                  5.0   90000          27.0              0   \n",
            "1           2   28                  3.0   65000          25.0              1   \n",
            "2           3   45                 15.0  150000          30.0              0   \n",
            "3           4   36                  7.0   60000          29.0              1   \n",
            "4           5   52                 20.0  200000          32.0              0   \n",
            "\n",
            "   Gender_Male  Job Title_Account Manager  Job Title_Accountant  \\\n",
            "0            1                          0                     0   \n",
            "1            0                          0                     0   \n",
            "2            1                          0                     0   \n",
            "3            0                          0                     0   \n",
            "4            1                          0                     0   \n",
            "\n",
            "   Job Title_Administrative Assistant  ...  Job Title_Technical Writer  \\\n",
            "0                                   0  ...                           0   \n",
            "1                                   0  ...                           0   \n",
            "2                                   0  ...                           0   \n",
            "3                                   0  ...                           0   \n",
            "4                                   0  ...                           0   \n",
            "\n",
            "   Job Title_Training Specialist  Job Title_UX Designer  \\\n",
            "0                              0                      0   \n",
            "1                              0                      0   \n",
            "2                              0                      0   \n",
            "3                              0                      0   \n",
            "4                              0                      0   \n",
            "\n",
            "   Job Title_UX Researcher  Job Title_VP of Finance  \\\n",
            "0                        0                        0   \n",
            "1                        0                        0   \n",
            "2                        0                        0   \n",
            "3                        0                        0   \n",
            "4                        0                        0   \n",
            "\n",
            "   Job Title_VP of Operations  Job Title_Web Developer  \\\n",
            "0                           0                        0   \n",
            "1                           0                        0   \n",
            "2                           0                        0   \n",
            "3                           0                        0   \n",
            "4                           0                        0   \n",
            "\n",
            "   Education Level_Bachelor's  Education Level_Master's  Education Level_PhD  \n",
            "0                           1                         0                    0  \n",
            "1                           0                         1                    0  \n",
            "2                           0                         0                    1  \n",
            "3                           1                         0                    0  \n",
            "4                           0                         1                    0  \n",
            "\n",
            "[5 rows x 184 columns]\n",
            "\n",
            "Label Encoded Data:\n",
            "   Identifier  Age  Gender  Education Level  Job Title  Years of Experience  \\\n",
            "0           1   32       1                0        159                  5.0   \n",
            "1           2   28       0                1         17                  3.0   \n",
            "2           3   45       1                2        130                 15.0   \n",
            "3           4   36       0                0        101                  7.0   \n",
            "4           5   52       1                1         22                 20.0   \n",
            "\n",
            "   Salary  Starting age  \n",
            "0   90000          27.0  \n",
            "1   65000          25.0  \n",
            "2  150000          30.0  \n",
            "3   60000          29.0  \n",
            "4  200000          32.0  \n"
          ]
        }
      ]
    },
    {
      "cell_type": "code",
      "source": [
        "data"
      ],
      "metadata": {
        "colab": {
          "base_uri": "https://localhost:8080/",
          "height": 423
        },
        "id": "lRMq3TkrHBVA",
        "outputId": "32491fa2-7a8d-4555-f23c-d23126fee3be"
      },
      "execution_count": 7,
      "outputs": [
        {
          "output_type": "execute_result",
          "data": {
            "text/plain": [
              "     Identifier  Age  Gender  Education Level  Job Title  Years of Experience  \\\n",
              "0             1   32       1                0        159                  5.0   \n",
              "1             2   28       0                1         17                  3.0   \n",
              "2             3   45       1                2        130                 15.0   \n",
              "3             4   36       0                0        101                  7.0   \n",
              "4             5   52       1                1         22                 20.0   \n",
              "..          ...  ...     ...              ...        ...                  ...   \n",
              "368         369   35       0                0        131                  8.0   \n",
              "369         370   43       1                1         30                 19.0   \n",
              "370         371   29       0                0         70                  2.0   \n",
              "371         372   34       1                0        137                  7.0   \n",
              "372         373   44       0                2        110                 15.0   \n",
              "\n",
              "     Salary  Starting age  \n",
              "0     90000          27.0  \n",
              "1     65000          25.0  \n",
              "2    150000          30.0  \n",
              "3     60000          29.0  \n",
              "4    200000          32.0  \n",
              "..      ...           ...  \n",
              "368   85000          27.0  \n",
              "369  170000          24.0  \n",
              "370   40000          27.0  \n",
              "371   90000          27.0  \n",
              "372  150000          29.0  \n",
              "\n",
              "[373 rows x 8 columns]"
            ],
            "text/html": [
              "\n",
              "  <div id=\"df-c04c7ec3-1948-44a6-a98b-ba63790adaa0\">\n",
              "    <div class=\"colab-df-container\">\n",
              "      <div>\n",
              "<style scoped>\n",
              "    .dataframe tbody tr th:only-of-type {\n",
              "        vertical-align: middle;\n",
              "    }\n",
              "\n",
              "    .dataframe tbody tr th {\n",
              "        vertical-align: top;\n",
              "    }\n",
              "\n",
              "    .dataframe thead th {\n",
              "        text-align: right;\n",
              "    }\n",
              "</style>\n",
              "<table border=\"1\" class=\"dataframe\">\n",
              "  <thead>\n",
              "    <tr style=\"text-align: right;\">\n",
              "      <th></th>\n",
              "      <th>Identifier</th>\n",
              "      <th>Age</th>\n",
              "      <th>Gender</th>\n",
              "      <th>Education Level</th>\n",
              "      <th>Job Title</th>\n",
              "      <th>Years of Experience</th>\n",
              "      <th>Salary</th>\n",
              "      <th>Starting age</th>\n",
              "    </tr>\n",
              "  </thead>\n",
              "  <tbody>\n",
              "    <tr>\n",
              "      <th>0</th>\n",
              "      <td>1</td>\n",
              "      <td>32</td>\n",
              "      <td>1</td>\n",
              "      <td>0</td>\n",
              "      <td>159</td>\n",
              "      <td>5.0</td>\n",
              "      <td>90000</td>\n",
              "      <td>27.0</td>\n",
              "    </tr>\n",
              "    <tr>\n",
              "      <th>1</th>\n",
              "      <td>2</td>\n",
              "      <td>28</td>\n",
              "      <td>0</td>\n",
              "      <td>1</td>\n",
              "      <td>17</td>\n",
              "      <td>3.0</td>\n",
              "      <td>65000</td>\n",
              "      <td>25.0</td>\n",
              "    </tr>\n",
              "    <tr>\n",
              "      <th>2</th>\n",
              "      <td>3</td>\n",
              "      <td>45</td>\n",
              "      <td>1</td>\n",
              "      <td>2</td>\n",
              "      <td>130</td>\n",
              "      <td>15.0</td>\n",
              "      <td>150000</td>\n",
              "      <td>30.0</td>\n",
              "    </tr>\n",
              "    <tr>\n",
              "      <th>3</th>\n",
              "      <td>4</td>\n",
              "      <td>36</td>\n",
              "      <td>0</td>\n",
              "      <td>0</td>\n",
              "      <td>101</td>\n",
              "      <td>7.0</td>\n",
              "      <td>60000</td>\n",
              "      <td>29.0</td>\n",
              "    </tr>\n",
              "    <tr>\n",
              "      <th>4</th>\n",
              "      <td>5</td>\n",
              "      <td>52</td>\n",
              "      <td>1</td>\n",
              "      <td>1</td>\n",
              "      <td>22</td>\n",
              "      <td>20.0</td>\n",
              "      <td>200000</td>\n",
              "      <td>32.0</td>\n",
              "    </tr>\n",
              "    <tr>\n",
              "      <th>...</th>\n",
              "      <td>...</td>\n",
              "      <td>...</td>\n",
              "      <td>...</td>\n",
              "      <td>...</td>\n",
              "      <td>...</td>\n",
              "      <td>...</td>\n",
              "      <td>...</td>\n",
              "      <td>...</td>\n",
              "    </tr>\n",
              "    <tr>\n",
              "      <th>368</th>\n",
              "      <td>369</td>\n",
              "      <td>35</td>\n",
              "      <td>0</td>\n",
              "      <td>0</td>\n",
              "      <td>131</td>\n",
              "      <td>8.0</td>\n",
              "      <td>85000</td>\n",
              "      <td>27.0</td>\n",
              "    </tr>\n",
              "    <tr>\n",
              "      <th>369</th>\n",
              "      <td>370</td>\n",
              "      <td>43</td>\n",
              "      <td>1</td>\n",
              "      <td>1</td>\n",
              "      <td>30</td>\n",
              "      <td>19.0</td>\n",
              "      <td>170000</td>\n",
              "      <td>24.0</td>\n",
              "    </tr>\n",
              "    <tr>\n",
              "      <th>370</th>\n",
              "      <td>371</td>\n",
              "      <td>29</td>\n",
              "      <td>0</td>\n",
              "      <td>0</td>\n",
              "      <td>70</td>\n",
              "      <td>2.0</td>\n",
              "      <td>40000</td>\n",
              "      <td>27.0</td>\n",
              "    </tr>\n",
              "    <tr>\n",
              "      <th>371</th>\n",
              "      <td>372</td>\n",
              "      <td>34</td>\n",
              "      <td>1</td>\n",
              "      <td>0</td>\n",
              "      <td>137</td>\n",
              "      <td>7.0</td>\n",
              "      <td>90000</td>\n",
              "      <td>27.0</td>\n",
              "    </tr>\n",
              "    <tr>\n",
              "      <th>372</th>\n",
              "      <td>373</td>\n",
              "      <td>44</td>\n",
              "      <td>0</td>\n",
              "      <td>2</td>\n",
              "      <td>110</td>\n",
              "      <td>15.0</td>\n",
              "      <td>150000</td>\n",
              "      <td>29.0</td>\n",
              "    </tr>\n",
              "  </tbody>\n",
              "</table>\n",
              "<p>373 rows × 8 columns</p>\n",
              "</div>\n",
              "      <button class=\"colab-df-convert\" onclick=\"convertToInteractive('df-c04c7ec3-1948-44a6-a98b-ba63790adaa0')\"\n",
              "              title=\"Convert this dataframe to an interactive table.\"\n",
              "              style=\"display:none;\">\n",
              "        \n",
              "  <svg xmlns=\"http://www.w3.org/2000/svg\" height=\"24px\"viewBox=\"0 0 24 24\"\n",
              "       width=\"24px\">\n",
              "    <path d=\"M0 0h24v24H0V0z\" fill=\"none\"/>\n",
              "    <path d=\"M18.56 5.44l.94 2.06.94-2.06 2.06-.94-2.06-.94-.94-2.06-.94 2.06-2.06.94zm-11 1L8.5 8.5l.94-2.06 2.06-.94-2.06-.94L8.5 2.5l-.94 2.06-2.06.94zm10 10l.94 2.06.94-2.06 2.06-.94-2.06-.94-.94-2.06-.94 2.06-2.06.94z\"/><path d=\"M17.41 7.96l-1.37-1.37c-.4-.4-.92-.59-1.43-.59-.52 0-1.04.2-1.43.59L10.3 9.45l-7.72 7.72c-.78.78-.78 2.05 0 2.83L4 21.41c.39.39.9.59 1.41.59.51 0 1.02-.2 1.41-.59l7.78-7.78 2.81-2.81c.8-.78.8-2.07 0-2.86zM5.41 20L4 18.59l7.72-7.72 1.47 1.35L5.41 20z\"/>\n",
              "  </svg>\n",
              "      </button>\n",
              "      \n",
              "  <style>\n",
              "    .colab-df-container {\n",
              "      display:flex;\n",
              "      flex-wrap:wrap;\n",
              "      gap: 12px;\n",
              "    }\n",
              "\n",
              "    .colab-df-convert {\n",
              "      background-color: #E8F0FE;\n",
              "      border: none;\n",
              "      border-radius: 50%;\n",
              "      cursor: pointer;\n",
              "      display: none;\n",
              "      fill: #1967D2;\n",
              "      height: 32px;\n",
              "      padding: 0 0 0 0;\n",
              "      width: 32px;\n",
              "    }\n",
              "\n",
              "    .colab-df-convert:hover {\n",
              "      background-color: #E2EBFA;\n",
              "      box-shadow: 0px 1px 2px rgba(60, 64, 67, 0.3), 0px 1px 3px 1px rgba(60, 64, 67, 0.15);\n",
              "      fill: #174EA6;\n",
              "    }\n",
              "\n",
              "    [theme=dark] .colab-df-convert {\n",
              "      background-color: #3B4455;\n",
              "      fill: #D2E3FC;\n",
              "    }\n",
              "\n",
              "    [theme=dark] .colab-df-convert:hover {\n",
              "      background-color: #434B5C;\n",
              "      box-shadow: 0px 1px 3px 1px rgba(0, 0, 0, 0.15);\n",
              "      filter: drop-shadow(0px 1px 2px rgba(0, 0, 0, 0.3));\n",
              "      fill: #FFFFFF;\n",
              "    }\n",
              "  </style>\n",
              "\n",
              "      <script>\n",
              "        const buttonEl =\n",
              "          document.querySelector('#df-c04c7ec3-1948-44a6-a98b-ba63790adaa0 button.colab-df-convert');\n",
              "        buttonEl.style.display =\n",
              "          google.colab.kernel.accessAllowed ? 'block' : 'none';\n",
              "\n",
              "        async function convertToInteractive(key) {\n",
              "          const element = document.querySelector('#df-c04c7ec3-1948-44a6-a98b-ba63790adaa0');\n",
              "          const dataTable =\n",
              "            await google.colab.kernel.invokeFunction('convertToInteractive',\n",
              "                                                     [key], {});\n",
              "          if (!dataTable) return;\n",
              "\n",
              "          const docLinkHtml = 'Like what you see? Visit the ' +\n",
              "            '<a target=\"_blank\" href=https://colab.research.google.com/notebooks/data_table.ipynb>data table notebook</a>'\n",
              "            + ' to learn more about interactive tables.';\n",
              "          element.innerHTML = '';\n",
              "          dataTable['output_type'] = 'display_data';\n",
              "          await google.colab.output.renderOutput(dataTable, element);\n",
              "          const docLink = document.createElement('div');\n",
              "          docLink.innerHTML = docLinkHtml;\n",
              "          element.appendChild(docLink);\n",
              "        }\n",
              "      </script>\n",
              "    </div>\n",
              "  </div>\n",
              "  "
            ]
          },
          "metadata": {},
          "execution_count": 7
        }
      ]
    },
    {
      "cell_type": "markdown",
      "source": [
        "Kreiranje skupa za testiranje na osnovu hash vrijednosti jedinstvenog identifikatora i stratifikovanim uzorkovanjem"
      ],
      "metadata": {
        "id": "ESlAlCfeKqit"
      }
    },
    {
      "cell_type": "markdown",
      "source": [
        "Dalje se kod se odnosi na podjelu podataka na skupove za treniranje i testiranje koristeći funkciju train_test_split iz biblioteke scikit-learn. prvo importujemo funkciju za to koja se naziva train_test_split, zatim definišemo listu atributa koji će biti uzeti u obzir prilikom treniranja modela i definišemo ciljani atribut koji je u ovom slučaju plata zaposlenih. Parametar test_size postavljen je na 0.2, što znači da će 20% podataka biti rezervisano za testiranje. Parametar random_state postavljen je na 42 kako bi se osigurala mogućnost ponavljanja rezultata. Stratifikacija se vrši na temelju heš vrijednosti jedinstvenog identifikatora, tako da su klase uravnotežene u skupu za testiranje. Na kraju se ispisuje br instanci u skupu za testitanje i identifikatori instanci."
      ],
      "metadata": {
        "id": "2RrLti44W-pM"
      }
    },
    {
      "cell_type": "code",
      "source": [
        "from sklearn.model_selection import train_test_split"
      ],
      "metadata": {
        "id": "9nYDtbDYM4Dk"
      },
      "execution_count": 8,
      "outputs": []
    },
    {
      "cell_type": "code",
      "source": [
        "attributes = ['Age', 'Gender', 'Education Level', 'Job Title', 'Years of Experience', 'Salary', 'Identifier','Starting age']\n",
        "target = 'Salary'\n",
        "train_data, test_data = train_test_split(data, test_size=0.2, random_state=42, stratify=data['Identifier'].apply(lambda x: hash(x) % 2))\n"
      ],
      "metadata": {
        "id": "MGDgD8LOM9Zp"
      },
      "execution_count": 9,
      "outputs": []
    },
    {
      "cell_type": "code",
      "source": [
        "print(\"Broj instanci u skupu za testiranje:\", len(test_data))\n",
        "print(\"Identifikatori u skupu za testiranje:\", test_data['Identifier'])"
      ],
      "metadata": {
        "colab": {
          "base_uri": "https://localhost:8080/"
        },
        "id": "BEHRtJKTNb-X",
        "outputId": "3b4872fb-3daa-4d2d-9ce9-8c6c02fde746"
      },
      "execution_count": 10,
      "outputs": [
        {
          "output_type": "stream",
          "name": "stdout",
          "text": [
            "Broj instanci u skupu za testiranje: 75\n",
            "Identifikatori u skupu za testiranje: 360    361\n",
            "276    277\n",
            "41      42\n",
            "365    366\n",
            "259    260\n",
            "      ... \n",
            "250    251\n",
            "200    201\n",
            "160    161\n",
            "117    118\n",
            "359    360\n",
            "Name: Identifier, Length: 75, dtype: int64\n"
          ]
        }
      ]
    },
    {
      "cell_type": "markdown",
      "source": [
        "Razdvajanje prediktora i ciljanih vrijednosti"
      ],
      "metadata": {
        "id": "c-bQa59mNgc4"
      }
    },
    {
      "cell_type": "markdown",
      "source": [
        "*Zbog problema prilikom pokretanja koda ponovo je dodat atribut 'Starting age'.\n",
        "\n",
        "Prvo definišemo listu prediktora i ciljanog atributa koji se predviđa. Kreiramo dataFrame-ove samo sa prediktorima (x) i ciljanim vrijednostima (y)i ispisujemo ih. Ovim kodom se pripremaju podaci za treniranje modela. "
      ],
      "metadata": {
        "id": "HabihaE3YFps"
      }
    },
    {
      "cell_type": "code",
      "source": [
        "data['Starting age'] = data['Age'] - data['Years of Experience']\n",
        "print(data[['Age', 'Years of Experience', 'Starting age']])\n"
      ],
      "metadata": {
        "colab": {
          "base_uri": "https://localhost:8080/"
        },
        "id": "BYGnDvbZOtih",
        "outputId": "41085407-76e0-4b70-e611-ff25dcbbdd04"
      },
      "execution_count": 11,
      "outputs": [
        {
          "output_type": "stream",
          "name": "stdout",
          "text": [
            "     Age  Years of Experience  Starting age\n",
            "0     32                  5.0          27.0\n",
            "1     28                  3.0          25.0\n",
            "2     45                 15.0          30.0\n",
            "3     36                  7.0          29.0\n",
            "4     52                 20.0          32.0\n",
            "..   ...                  ...           ...\n",
            "368   35                  8.0          27.0\n",
            "369   43                 19.0          24.0\n",
            "370   29                  2.0          27.0\n",
            "371   34                  7.0          27.0\n",
            "372   44                 15.0          29.0\n",
            "\n",
            "[373 rows x 3 columns]\n"
          ]
        }
      ]
    },
    {
      "cell_type": "code",
      "source": [
        "predictors = ['Age', 'Gender', 'Education Level', 'Job Title', 'Years of Experience', 'Starting age']\n",
        "target = 'Salary'\n",
        "X = data[predictors]\n",
        "y = data[target]\n",
        "print(\"Prediktori (X):\")\n",
        "print(X.head())\n",
        "\n",
        "print(\"\\nCiljne vrijednosti (y):\")\n",
        "print(y.head())"
      ],
      "metadata": {
        "colab": {
          "base_uri": "https://localhost:8080/"
        },
        "id": "A2fAnWbfO28n",
        "outputId": "70a4f918-208d-4ace-e46d-a096c206b1ef"
      },
      "execution_count": 12,
      "outputs": [
        {
          "output_type": "stream",
          "name": "stdout",
          "text": [
            "Prediktori (X):\n",
            "   Age  Gender  Education Level  Job Title  Years of Experience  Starting age\n",
            "0   32       1                0        159                  5.0          27.0\n",
            "1   28       0                1         17                  3.0          25.0\n",
            "2   45       1                2        130                 15.0          30.0\n",
            "3   36       0                0        101                  7.0          29.0\n",
            "4   52       1                1         22                 20.0          32.0\n",
            "\n",
            "Ciljne vrijednosti (y):\n",
            "0     90000\n",
            "1     65000\n",
            "2    150000\n",
            "3     60000\n",
            "4    200000\n",
            "Name: Salary, dtype: int64\n"
          ]
        }
      ]
    },
    {
      "cell_type": "markdown",
      "source": [
        "Zamjena nedostajućih vrijednosti srednjom vrijednošću kako bi se održala distribucija podataka"
      ],
      "metadata": {
        "id": "XP14vyy0TPsF"
      }
    },
    {
      "cell_type": "markdown",
      "source": [
        "Prvo definišemo listu atributa koji sadrže nedostajuće vrijednosti, pa kreiramo instancu SimpleImputer objekta s definisanom strategijom zamjene nedostajućih vrijednosti sa prosječnom vrijednošću atributa. Nakon toga ga primjenjujemo na odabrane atribute i ispusujemo prvih nekoliko redova."
      ],
      "metadata": {
        "id": "Quz_OcKmZU9o"
      }
    },
    {
      "cell_type": "code",
      "source": [
        "attributes_with_missing_values = ['Age', 'Gender', 'Education Level', 'Job Title', 'Years of Experience', 'Starting age']\n",
        "imputer = SimpleImputer(strategy='mean')\n",
        "data[attributes_with_missing_values] = imputer.fit_transform(data[attributes_with_missing_values])\n",
        "print(data.head())"
      ],
      "metadata": {
        "colab": {
          "base_uri": "https://localhost:8080/"
        },
        "id": "tlfVHrbITTeG",
        "outputId": "36e7d321-5613-4cdb-c73e-36588e961e40"
      },
      "execution_count": 13,
      "outputs": [
        {
          "output_type": "stream",
          "name": "stdout",
          "text": [
            "   Identifier   Age  Gender  Education Level  Job Title  Years of Experience  \\\n",
            "0           1  32.0     1.0              0.0      159.0                  5.0   \n",
            "1           2  28.0     0.0              1.0       17.0                  3.0   \n",
            "2           3  45.0     1.0              2.0      130.0                 15.0   \n",
            "3           4  36.0     0.0              0.0      101.0                  7.0   \n",
            "4           5  52.0     1.0              1.0       22.0                 20.0   \n",
            "\n",
            "   Salary  Starting age  \n",
            "0   90000          27.0  \n",
            "1   65000          25.0  \n",
            "2  150000          30.0  \n",
            "3   60000          29.0  \n",
            "4  200000          32.0  \n"
          ]
        }
      ]
    },
    {
      "cell_type": "markdown",
      "source": [
        "Crtanje histograma za numeričke atribute"
      ],
      "metadata": {
        "id": "agUKX9MBUMe4"
      }
    },
    {
      "cell_type": "markdown",
      "source": [
        "Importujemo matplotlib.pyplot za crtanje histograma numeričkih atributa, a obzirom da smo sve atribute promijenili u numeričke svi su definisani u listi i predstavljeni. Odabrani atributi imaju 10 binova. Postavljamo oznaku na x i y osi, i naziv histograma."
      ],
      "metadata": {
        "id": "tgWk5zLmbao9"
      }
    },
    {
      "cell_type": "code",
      "source": [
        "import matplotlib.pyplot as plt"
      ],
      "metadata": {
        "id": "ldzWCeseULYk"
      },
      "execution_count": 14,
      "outputs": []
    },
    {
      "cell_type": "code",
      "source": [
        "numeric_attributes = ['Age', 'Years of Experience','Gender', 'Education Level', 'Salary']\n",
        "for attribute in numeric_attributes:\n",
        "    plt.hist(data[attribute], bins=10)  \n",
        "    plt.xlabel(attribute)\n",
        "    plt.ylabel('Count')\n",
        "    plt.title(f'Histogram of {attribute}')\n",
        "    plt.show()"
      ],
      "metadata": {
        "colab": {
          "base_uri": "https://localhost:8080/",
          "height": 1000
        },
        "id": "41e7_uZhUWTH",
        "outputId": "54636c5b-d66d-43d8-8ce7-190a59a8e535"
      },
      "execution_count": 15,
      "outputs": [
        {
          "output_type": "display_data",
          "data": {
            "text/plain": [
              "<Figure size 640x480 with 1 Axes>"
            ],
            "image/png": "[encoded data removed]"
          },
          "metadata": {}
        },
        {
          "output_type": "display_data",
          "data": {
            "text/plain": [
              "<Figure size 640x480 with 1 Axes>"
            ],
            "image/png": "[encoded data removed]"
          },
          "metadata": {}
        },
        {
          "output_type": "display_data",
          "data": {
            "text/plain": [
              "<Figure size 640x480 with 1 Axes>"
            ],
            "image/png": "[encoded data removed]"
          },
          "metadata": {}
        },
        {
          "output_type": "display_data",
          "data": {
            "text/plain": [
              "<Figure size 640x480 with 1 Axes>"
            ],
            "image/png": "[encoded data removed]"
          },
          "metadata": {}
        },
        {
          "output_type": "display_data",
          "data": {
            "text/plain": [
              "<Figure size 640x480 with 1 Axes>"
            ],
            "image/png": "[encoded data removed]"
          },
          "metadata": {}
        }
      ]
    },
    {
      "cell_type": "markdown",
      "source": [
        "Računanje koeficijenata korelacije između odabranih parova atributa (min 2 para) i njihov grafički prikaz"
      ],
      "metadata": {
        "id": "JSuZP3dtVGwX"
      }
    },
    {
      "cell_type": "markdown",
      "source": [
        "Prvo definišemo listu parova atributa za koje će se izračunati korelacija i nacrtati scatter plot.U petlji se prolazi kroz svaki par atributa iz liste.  Izračunava se koeficijent korelacije između atributa 1 i 2 iz skupa podataka a zatim crtamo tačke na scatter plotu sa atributom 1 na x-osi i atributom 2 na y-osi. U nastavku su postavljeni nazivi osa i grafika sa koeficijentom korelacije.\n",
        "\n",
        "Koeficijent korelacije između nivoa obrazovanja i plate iznosi 0.67 što ukazuje na jaku pozitivnu korelaciju između ta dva atributa. Vrijednost koeficijenta korelacije je bliska 1, što znači da postoji tendencija da se oba atributa povećavaju ili smanjuju zajedno, odnosno da osobe sa višim nivoom obrazovanja imaju tendenciju da imaju veće plate.\n",
        "\n",
        "Koeficijent korelacije 0.93 ukazuje na veoma jaku pozitivnu korelaciju između godina iskustva i plate. To znači da postoji snažna tendencija da osobe sa više godina iskustva imaju više plate. Ova visoka korelacija ukazuje na važnost godina iskustva u određivanju visine plate."
      ],
      "metadata": {
        "id": "1Fa6gv_Dcqua"
      }
    },
    {
      "cell_type": "code",
      "source": [
        "attribute_pairs = [('Education Level', 'Salary'), ('Years of Experience', 'Salary')]\n",
        "for attribute1, attribute2 in attribute_pairs:\n",
        "    correlation = data[attribute1].corr(data[attribute2])\n",
        "    plt.scatter(data[attribute1], data[attribute2])\n",
        "    plt.xlabel(attribute1)\n",
        "    plt.ylabel(attribute2)\n",
        "    plt.title(f'Correlation between {attribute1} and {attribute2}: {correlation:.2f}')\n",
        "    plt.show()"
      ],
      "metadata": {
        "colab": {
          "base_uri": "https://localhost:8080/",
          "height": 927
        },
        "id": "pJrA9MimVIOD",
        "outputId": "f3d7cab0-a0d9-42e8-8cf4-a6ace537ae1d"
      },
      "execution_count": 16,
      "outputs": [
        {
          "output_type": "display_data",
          "data": {
            "text/plain": [
              "<Figure size 640x480 with 1 Axes>"
            ],
            "image/png": "[encoded data removed]"
          },
          "metadata": {}
        },
        {
          "output_type": "display_data",
          "data": {
            "text/plain": [
              "<Figure size 640x480 with 1 Axes>"
            ],
            "image/png": "[encoded data removed]"
          },
          "metadata": {}
        }
      ]
    },
    {
      "cell_type": "code",
      "source": [
        "data.dtypes"
      ],
      "metadata": {
        "colab": {
          "base_uri": "https://localhost:8080/"
        },
        "id": "ZQKcBoGbWmPw",
        "outputId": "06043dd5-2d7f-4469-f778-ab4b2731ea24"
      },
      "execution_count": 17,
      "outputs": [
        {
          "output_type": "execute_result",
          "data": {
            "text/plain": [
              "Identifier               int64\n",
              "Age                    float64\n",
              "Gender                 float64\n",
              "Education Level        float64\n",
              "Job Title              float64\n",
              "Years of Experience    float64\n",
              "Salary                   int64\n",
              "Starting age           float64\n",
              "dtype: object"
            ]
          },
          "metadata": {},
          "execution_count": 17
        }
      ]
    },
    {
      "cell_type": "code",
      "source": [
        "data.info()"
      ],
      "metadata": {
        "colab": {
          "base_uri": "https://localhost:8080/"
        },
        "id": "83jvynZaW1QX",
        "outputId": "bd0496f0-b677-4ae1-88b9-6f8136c58266"
      },
      "execution_count": 18,
      "outputs": [
        {
          "output_type": "stream",
          "name": "stdout",
          "text": [
            "<class 'pandas.core.frame.DataFrame'>\n",
            "RangeIndex: 373 entries, 0 to 372\n",
            "Data columns (total 8 columns):\n",
            " #   Column               Non-Null Count  Dtype  \n",
            "---  ------               --------------  -----  \n",
            " 0   Identifier           373 non-null    int64  \n",
            " 1   Age                  373 non-null    float64\n",
            " 2   Gender               373 non-null    float64\n",
            " 3   Education Level      373 non-null    float64\n",
            " 4   Job Title            373 non-null    float64\n",
            " 5   Years of Experience  373 non-null    float64\n",
            " 6   Salary               373 non-null    int64  \n",
            " 7   Starting age         373 non-null    float64\n",
            "dtypes: float64(6), int64(2)\n",
            "memory usage: 23.4 KB\n"
          ]
        }
      ]
    },
    {
      "cell_type": "code",
      "source": [
        "data.isna().sum()"
      ],
      "metadata": {
        "colab": {
          "base_uri": "https://localhost:8080/"
        },
        "id": "DINxMQg2XAJ0",
        "outputId": "ec7241e7-3b85-493a-9078-14d700953f0d"
      },
      "execution_count": 19,
      "outputs": [
        {
          "output_type": "execute_result",
          "data": {
            "text/plain": [
              "Identifier             0\n",
              "Age                    0\n",
              "Gender                 0\n",
              "Education Level        0\n",
              "Job Title              0\n",
              "Years of Experience    0\n",
              "Salary                 0\n",
              "Starting age           0\n",
              "dtype: int64"
            ]
          },
          "metadata": {},
          "execution_count": 19
        }
      ]
    },
    {
      "cell_type": "code",
      "source": [],
      "metadata": {
        "id": "rlBxfSAaXE8f"
      },
      "execution_count": 19,
      "outputs": []
    }
  ]
}